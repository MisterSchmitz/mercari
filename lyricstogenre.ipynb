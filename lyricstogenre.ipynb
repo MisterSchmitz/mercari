{
 "cells": [
  {
   "cell_type": "code",
   "execution_count": 85,
   "metadata": {
    "collapsed": true
   },
   "outputs": [],
   "source": [
    "# imports\n",
    "import pandas as pd\n",
    "import numpy as np\n",
    "import random\n",
    "from collections import defaultdict\n",
    "from sklearn.pipeline import Pipeline\n",
    "from sklearn.feature_extraction.text import CountVectorizer\n",
    "from sklearn.linear_model import LogisticRegression\n",
    "from sklearn.feature_extraction.text import TfidfTransformer\n",
    "from sklearn.multiclass import OneVsRestClassifier\n",
    "from sklearn.svm import LinearSVC\n",
    "import pprint\n",
    "import plotly\n",
    "import plotly.plotly as py\n",
    "import plotly.graph_objs as go\n",
    "from wordcloud import WordCloud, STOPWORDS\n",
    "import matplotlib.pyplot as plt\n",
    "import re\n",
    "from os import path, getcwd\n",
    "from PIL import Image"
   ]
  },
  {
   "cell_type": "code",
   "execution_count": 2,
   "metadata": {
    "collapsed": false
   },
   "outputs": [
    {
     "data": {
      "text/html": [
       "<div>\n",
       "<table border=\"1\" class=\"dataframe\">\n",
       "  <thead>\n",
       "    <tr style=\"text-align: right;\">\n",
       "      <th></th>\n",
       "      <th>index</th>\n",
       "      <th>song</th>\n",
       "      <th>year</th>\n",
       "      <th>artist</th>\n",
       "      <th>genre</th>\n",
       "      <th>lyrics</th>\n",
       "    </tr>\n",
       "  </thead>\n",
       "  <tbody>\n",
       "    <tr>\n",
       "      <th>0</th>\n",
       "      <td>0</td>\n",
       "      <td>ego-remix</td>\n",
       "      <td>2009</td>\n",
       "      <td>beyonce-knowles</td>\n",
       "      <td>Pop</td>\n",
       "      <td>Oh baby, how you doing?\\nYou know I'm gonna cu...</td>\n",
       "    </tr>\n",
       "    <tr>\n",
       "      <th>1</th>\n",
       "      <td>1</td>\n",
       "      <td>then-tell-me</td>\n",
       "      <td>2009</td>\n",
       "      <td>beyonce-knowles</td>\n",
       "      <td>Pop</td>\n",
       "      <td>playin' everything so easy,\\nit's like you see...</td>\n",
       "    </tr>\n",
       "    <tr>\n",
       "      <th>2</th>\n",
       "      <td>2</td>\n",
       "      <td>honesty</td>\n",
       "      <td>2009</td>\n",
       "      <td>beyonce-knowles</td>\n",
       "      <td>Pop</td>\n",
       "      <td>If you search\\nFor tenderness\\nIt isn't hard t...</td>\n",
       "    </tr>\n",
       "    <tr>\n",
       "      <th>3</th>\n",
       "      <td>3</td>\n",
       "      <td>you-are-my-rock</td>\n",
       "      <td>2009</td>\n",
       "      <td>beyonce-knowles</td>\n",
       "      <td>Pop</td>\n",
       "      <td>Oh oh oh I, oh oh oh I\\n[Verse 1:]\\nIf I wrote...</td>\n",
       "    </tr>\n",
       "    <tr>\n",
       "      <th>4</th>\n",
       "      <td>4</td>\n",
       "      <td>black-culture</td>\n",
       "      <td>2009</td>\n",
       "      <td>beyonce-knowles</td>\n",
       "      <td>Pop</td>\n",
       "      <td>Party the people, the people the party it's po...</td>\n",
       "    </tr>\n",
       "  </tbody>\n",
       "</table>\n",
       "</div>"
      ],
      "text/plain": [
       "   index             song  year           artist genre  \\\n",
       "0      0        ego-remix  2009  beyonce-knowles   Pop   \n",
       "1      1     then-tell-me  2009  beyonce-knowles   Pop   \n",
       "2      2          honesty  2009  beyonce-knowles   Pop   \n",
       "3      3  you-are-my-rock  2009  beyonce-knowles   Pop   \n",
       "4      4    black-culture  2009  beyonce-knowles   Pop   \n",
       "\n",
       "                                              lyrics  \n",
       "0  Oh baby, how you doing?\\nYou know I'm gonna cu...  \n",
       "1  playin' everything so easy,\\nit's like you see...  \n",
       "2  If you search\\nFor tenderness\\nIt isn't hard t...  \n",
       "3  Oh oh oh I, oh oh oh I\\n[Verse 1:]\\nIf I wrote...  \n",
       "4  Party the people, the people the party it's po...  "
      ]
     },
     "execution_count": 2,
     "metadata": {},
     "output_type": "execute_result"
    }
   ],
   "source": [
    "df = pd.read_csv('lyrics.csv')\n",
    "df.head()"
   ]
  },
  {
   "cell_type": "code",
   "execution_count": 3,
   "metadata": {
    "collapsed": false
   },
   "outputs": [
    {
     "data": {
      "text/html": [
       "<div>\n",
       "<table border=\"1\" class=\"dataframe\">\n",
       "  <thead>\n",
       "    <tr style=\"text-align: right;\">\n",
       "      <th></th>\n",
       "      <th>index</th>\n",
       "      <th>song</th>\n",
       "      <th>year</th>\n",
       "      <th>artist</th>\n",
       "      <th>genre</th>\n",
       "      <th>lyrics</th>\n",
       "    </tr>\n",
       "  </thead>\n",
       "  <tbody>\n",
       "    <tr>\n",
       "      <th>0</th>\n",
       "      <td>0</td>\n",
       "      <td>ego-remix</td>\n",
       "      <td>2009</td>\n",
       "      <td>beyonce-knowles</td>\n",
       "      <td>Pop</td>\n",
       "      <td>Oh baby, how you doing? You know I'm gonna cut...</td>\n",
       "    </tr>\n",
       "    <tr>\n",
       "      <th>1</th>\n",
       "      <td>1</td>\n",
       "      <td>then-tell-me</td>\n",
       "      <td>2009</td>\n",
       "      <td>beyonce-knowles</td>\n",
       "      <td>Pop</td>\n",
       "      <td>playin' everything so easy, it's like you seem...</td>\n",
       "    </tr>\n",
       "    <tr>\n",
       "      <th>2</th>\n",
       "      <td>2</td>\n",
       "      <td>honesty</td>\n",
       "      <td>2009</td>\n",
       "      <td>beyonce-knowles</td>\n",
       "      <td>Pop</td>\n",
       "      <td>If you search For tenderness It isn't hard to ...</td>\n",
       "    </tr>\n",
       "    <tr>\n",
       "      <th>3</th>\n",
       "      <td>3</td>\n",
       "      <td>you-are-my-rock</td>\n",
       "      <td>2009</td>\n",
       "      <td>beyonce-knowles</td>\n",
       "      <td>Pop</td>\n",
       "      <td>Oh oh oh I, oh oh oh I [Verse 1:] If I wrote a...</td>\n",
       "    </tr>\n",
       "    <tr>\n",
       "      <th>4</th>\n",
       "      <td>4</td>\n",
       "      <td>black-culture</td>\n",
       "      <td>2009</td>\n",
       "      <td>beyonce-knowles</td>\n",
       "      <td>Pop</td>\n",
       "      <td>Party the people, the people the party it's po...</td>\n",
       "    </tr>\n",
       "  </tbody>\n",
       "</table>\n",
       "</div>"
      ],
      "text/plain": [
       "   index             song  year           artist genre  \\\n",
       "0      0        ego-remix  2009  beyonce-knowles   Pop   \n",
       "1      1     then-tell-me  2009  beyonce-knowles   Pop   \n",
       "2      2          honesty  2009  beyonce-knowles   Pop   \n",
       "3      3  you-are-my-rock  2009  beyonce-knowles   Pop   \n",
       "4      4    black-culture  2009  beyonce-knowles   Pop   \n",
       "\n",
       "                                              lyrics  \n",
       "0  Oh baby, how you doing? You know I'm gonna cut...  \n",
       "1  playin' everything so easy, it's like you seem...  \n",
       "2  If you search For tenderness It isn't hard to ...  \n",
       "3  Oh oh oh I, oh oh oh I [Verse 1:] If I wrote a...  \n",
       "4  Party the people, the people the party it's po...  "
      ]
     },
     "execution_count": 3,
     "metadata": {},
     "output_type": "execute_result"
    }
   ],
   "source": [
    "#replace carriage returns\n",
    "df = df.replace({'\\n': ' '}, regex=True)\n",
    "df.head()"
   ]
  },
  {
   "cell_type": "code",
   "execution_count": 4,
   "metadata": {
    "collapsed": false
   },
   "outputs": [],
   "source": [
    "# remove nans\n",
    "df = df.dropna()\n",
    "\n",
    "# remove ones that aren't in set\n",
    "#df = df[df.genre != 'Rock']\n",
    "#df = df[df.genre != 'Pop']\n",
    "#df = df[df.genre != 'Hip-Hop']\n",
    "df = df[df.genre != 'Not Available']"
   ]
  },
  {
   "cell_type": "code",
   "execution_count": 5,
   "metadata": {
    "collapsed": false
   },
   "outputs": [
    {
     "data": {
      "text/html": [
       "<div>\n",
       "<table border=\"1\" class=\"dataframe\">\n",
       "  <thead>\n",
       "    <tr style=\"text-align: right;\">\n",
       "      <th></th>\n",
       "      <th>index</th>\n",
       "      <th>song</th>\n",
       "      <th>year</th>\n",
       "      <th>artist</th>\n",
       "      <th>genre</th>\n",
       "      <th>lyrics</th>\n",
       "    </tr>\n",
       "  </thead>\n",
       "  <tbody>\n",
       "    <tr>\n",
       "      <th>0</th>\n",
       "      <td>135422</td>\n",
       "      <td>in-the-lowlands</td>\n",
       "      <td>2006</td>\n",
       "      <td>crowded-house</td>\n",
       "      <td>Rock</td>\n",
       "      <td>Oh hell trouble is coming Out here in panic an...</td>\n",
       "    </tr>\n",
       "    <tr>\n",
       "      <th>1</th>\n",
       "      <td>122699</td>\n",
       "      <td>nothing-s-better-than-that</td>\n",
       "      <td>2007</td>\n",
       "      <td>freddie-hart</td>\n",
       "      <td>Rock</td>\n",
       "      <td>(Sweet angel baby) love you so much you blow m...</td>\n",
       "    </tr>\n",
       "    <tr>\n",
       "      <th>2</th>\n",
       "      <td>346044</td>\n",
       "      <td>planting-seeds</td>\n",
       "      <td>2009</td>\n",
       "      <td>built-to-spill</td>\n",
       "      <td>Rock</td>\n",
       "      <td>I'd hand it to time if I knew Where the time h...</td>\n",
       "    </tr>\n",
       "    <tr>\n",
       "      <th>3</th>\n",
       "      <td>253009</td>\n",
       "      <td>december</td>\n",
       "      <td>2006</td>\n",
       "      <td>expose</td>\n",
       "      <td>Pop</td>\n",
       "      <td>Now the time of the year is finally here It's ...</td>\n",
       "    </tr>\n",
       "    <tr>\n",
       "      <th>4</th>\n",
       "      <td>137494</td>\n",
       "      <td>cool-band-buzz</td>\n",
       "      <td>2010</td>\n",
       "      <td>busdriver</td>\n",
       "      <td>Hip-Hop</td>\n",
       "      <td>They want to hear good freestyling with sarcas...</td>\n",
       "    </tr>\n",
       "  </tbody>\n",
       "</table>\n",
       "</div>"
      ],
      "text/plain": [
       "    index                        song  year          artist    genre  \\\n",
       "0  135422             in-the-lowlands  2006   crowded-house     Rock   \n",
       "1  122699  nothing-s-better-than-that  2007    freddie-hart     Rock   \n",
       "2  346044              planting-seeds  2009  built-to-spill     Rock   \n",
       "3  253009                    december  2006          expose      Pop   \n",
       "4  137494              cool-band-buzz  2010       busdriver  Hip-Hop   \n",
       "\n",
       "                                              lyrics  \n",
       "0  Oh hell trouble is coming Out here in panic an...  \n",
       "1  (Sweet angel baby) love you so much you blow m...  \n",
       "2  I'd hand it to time if I knew Where the time h...  \n",
       "3  Now the time of the year is finally here It's ...  \n",
       "4  They want to hear good freestyling with sarcas...  "
      ]
     },
     "execution_count": 5,
     "metadata": {},
     "output_type": "execute_result"
    }
   ],
   "source": [
    "# shuffle data\n",
    "random.seed(10)\n",
    "df = df.sample(frac=1).reset_index(drop=True)\n",
    "df.head()"
   ]
  },
  {
   "cell_type": "code",
   "execution_count": 23,
   "metadata": {
    "collapsed": true
   },
   "outputs": [],
   "source": [
    "# get lyrics\n",
    "genres, lyrics = [], []\n",
    "for x1, x2 in zip(df['lyrics'], df['genre']):\n",
    "    genres.append(x2.lower())\n",
    "    lyrics.append(x1)"
   ]
  },
  {
   "cell_type": "code",
   "execution_count": 7,
   "metadata": {
    "collapsed": false
   },
   "outputs": [
    {
     "name": "stdout",
     "output_type": "stream",
     "text": [
      "Num genres: 11\n"
     ]
    }
   ],
   "source": [
    "# get number of total genres\n",
    "total_genres = len(set(genres))\n",
    "print(\"Num genres: %d\" % (total_genres))\n",
    "\n",
    "# create training and test set\n",
    "training_x = lyrics[:len(lyrics)//2]\n",
    "training_y = genres[:len(lyrics)//2]\n",
    "\n",
    "test_x = lyrics[len(lyrics)//2:]\n",
    "test_y = genres[len(lyrics)//2:]"
   ]
  },
  {
   "cell_type": "markdown",
   "metadata": {},
   "source": [
    "____________________________________________________________________\n",
    "## SVM balanced classifier, using unigrams (words)"
   ]
  },
  {
   "cell_type": "code",
   "execution_count": 8,
   "metadata": {
    "collapsed": false
   },
   "outputs": [
    {
     "name": "stderr",
     "output_type": "stream",
     "text": [
      "/Users/hubes/anaconda/lib/python3.6/site-packages/sklearn/utils/class_weight.py:65: DeprecationWarning:\n",
      "\n",
      "The class_weight='auto' heuristic is deprecated in 0.17 in favor of a new heuristic class_weight='balanced'. 'auto' will be removed in 0.19\n",
      "\n",
      "/Users/hubes/anaconda/lib/python3.6/site-packages/sklearn/utils/class_weight.py:65: DeprecationWarning:\n",
      "\n",
      "The class_weight='auto' heuristic is deprecated in 0.17 in favor of a new heuristic class_weight='balanced'. 'auto' will be removed in 0.19\n",
      "\n",
      "/Users/hubes/anaconda/lib/python3.6/site-packages/sklearn/utils/class_weight.py:65: DeprecationWarning:\n",
      "\n",
      "The class_weight='auto' heuristic is deprecated in 0.17 in favor of a new heuristic class_weight='balanced'. 'auto' will be removed in 0.19\n",
      "\n",
      "/Users/hubes/anaconda/lib/python3.6/site-packages/sklearn/utils/class_weight.py:65: DeprecationWarning:\n",
      "\n",
      "The class_weight='auto' heuristic is deprecated in 0.17 in favor of a new heuristic class_weight='balanced'. 'auto' will be removed in 0.19\n",
      "\n",
      "/Users/hubes/anaconda/lib/python3.6/site-packages/sklearn/utils/class_weight.py:65: DeprecationWarning:\n",
      "\n",
      "The class_weight='auto' heuristic is deprecated in 0.17 in favor of a new heuristic class_weight='balanced'. 'auto' will be removed in 0.19\n",
      "\n",
      "/Users/hubes/anaconda/lib/python3.6/site-packages/sklearn/utils/class_weight.py:65: DeprecationWarning:\n",
      "\n",
      "The class_weight='auto' heuristic is deprecated in 0.17 in favor of a new heuristic class_weight='balanced'. 'auto' will be removed in 0.19\n",
      "\n",
      "/Users/hubes/anaconda/lib/python3.6/site-packages/sklearn/utils/class_weight.py:65: DeprecationWarning:\n",
      "\n",
      "The class_weight='auto' heuristic is deprecated in 0.17 in favor of a new heuristic class_weight='balanced'. 'auto' will be removed in 0.19\n",
      "\n",
      "/Users/hubes/anaconda/lib/python3.6/site-packages/sklearn/utils/class_weight.py:65: DeprecationWarning:\n",
      "\n",
      "The class_weight='auto' heuristic is deprecated in 0.17 in favor of a new heuristic class_weight='balanced'. 'auto' will be removed in 0.19\n",
      "\n",
      "/Users/hubes/anaconda/lib/python3.6/site-packages/sklearn/utils/class_weight.py:65: DeprecationWarning:\n",
      "\n",
      "The class_weight='auto' heuristic is deprecated in 0.17 in favor of a new heuristic class_weight='balanced'. 'auto' will be removed in 0.19\n",
      "\n",
      "/Users/hubes/anaconda/lib/python3.6/site-packages/sklearn/utils/class_weight.py:65: DeprecationWarning:\n",
      "\n",
      "The class_weight='auto' heuristic is deprecated in 0.17 in favor of a new heuristic class_weight='balanced'. 'auto' will be removed in 0.19\n",
      "\n",
      "/Users/hubes/anaconda/lib/python3.6/site-packages/sklearn/utils/class_weight.py:65: DeprecationWarning:\n",
      "\n",
      "The class_weight='auto' heuristic is deprecated in 0.17 in favor of a new heuristic class_weight='balanced'. 'auto' will be removed in 0.19\n",
      "\n"
     ]
    },
    {
     "name": "stdout",
     "output_type": "stream",
     "text": [
      "Accuracy: 0.490504\n"
     ]
    }
   ],
   "source": [
    "# svm classifier with words\n",
    "classifier = Pipeline([\n",
    "    ('vectorizer', CountVectorizer(stop_words='english', analyzer='word')),\n",
    "    ('tfidf', TfidfTransformer()),\n",
    "    ('clf', OneVsRestClassifier(LinearSVC(C=1, class_weight='auto')))])\n",
    "classifier.fit(training_x, training_y)\n",
    "predictions = classifier.predict(test_x)\n",
    "# get accuracy\n",
    "correct = 0\n",
    "for label, prediction in zip(test_y, predictions):\n",
    "    if label == prediction:\n",
    "        correct += 1\n",
    "print(\"Accuracy: %f\" % (float(correct)/float(len(test_y))))"
   ]
  },
  {
   "cell_type": "code",
   "execution_count": 9,
   "metadata": {
    "collapsed": false,
    "scrolled": false
   },
   "outputs": [],
   "source": [
    "# performance by genre\n",
    "correct_by_genre = defaultdict(int)\n",
    "incorrect_by_genre = defaultdict(int)\n",
    "pct_correct_by_genre = defaultdict(float)\n",
    "for label, prediction in zip(test_y, predictions):\n",
    "    if (label == prediction):\n",
    "        correct_by_genre[label] += 1\n",
    "    else:\n",
    "        incorrect_by_genre[label] += 1\n",
    "for genre in correct_by_genre:\n",
    "    pct_correct_by_genre[genre] = correct_by_genre[genre] / (correct_by_genre[genre]+incorrect_by_genre[genre])\n",
    "svm_stats = sorted(pct_correct_by_genre.items(), key=lambda x:x[1], reverse=True)"
   ]
  },
  {
   "cell_type": "markdown",
   "metadata": {},
   "source": [
    "____________________________________________________________________\n",
    "## Logistic Regression balanced classifier, using unigrams (words)"
   ]
  },
  {
   "cell_type": "code",
   "execution_count": 10,
   "metadata": {
    "collapsed": false
   },
   "outputs": [
    {
     "name": "stderr",
     "output_type": "stream",
     "text": [
      "/Users/hubes/anaconda/lib/python3.6/site-packages/sklearn/utils/class_weight.py:65: DeprecationWarning:\n",
      "\n",
      "The class_weight='auto' heuristic is deprecated in 0.17 in favor of a new heuristic class_weight='balanced'. 'auto' will be removed in 0.19\n",
      "\n",
      "/Users/hubes/anaconda/lib/python3.6/site-packages/sklearn/utils/class_weight.py:65: DeprecationWarning:\n",
      "\n",
      "The class_weight='auto' heuristic is deprecated in 0.17 in favor of a new heuristic class_weight='balanced'. 'auto' will be removed in 0.19\n",
      "\n",
      "/Users/hubes/anaconda/lib/python3.6/site-packages/sklearn/utils/class_weight.py:65: DeprecationWarning:\n",
      "\n",
      "The class_weight='auto' heuristic is deprecated in 0.17 in favor of a new heuristic class_weight='balanced'. 'auto' will be removed in 0.19\n",
      "\n",
      "/Users/hubes/anaconda/lib/python3.6/site-packages/sklearn/utils/class_weight.py:65: DeprecationWarning:\n",
      "\n",
      "The class_weight='auto' heuristic is deprecated in 0.17 in favor of a new heuristic class_weight='balanced'. 'auto' will be removed in 0.19\n",
      "\n",
      "/Users/hubes/anaconda/lib/python3.6/site-packages/sklearn/utils/class_weight.py:65: DeprecationWarning:\n",
      "\n",
      "The class_weight='auto' heuristic is deprecated in 0.17 in favor of a new heuristic class_weight='balanced'. 'auto' will be removed in 0.19\n",
      "\n",
      "/Users/hubes/anaconda/lib/python3.6/site-packages/sklearn/utils/class_weight.py:65: DeprecationWarning:\n",
      "\n",
      "The class_weight='auto' heuristic is deprecated in 0.17 in favor of a new heuristic class_weight='balanced'. 'auto' will be removed in 0.19\n",
      "\n",
      "/Users/hubes/anaconda/lib/python3.6/site-packages/sklearn/utils/class_weight.py:65: DeprecationWarning:\n",
      "\n",
      "The class_weight='auto' heuristic is deprecated in 0.17 in favor of a new heuristic class_weight='balanced'. 'auto' will be removed in 0.19\n",
      "\n",
      "/Users/hubes/anaconda/lib/python3.6/site-packages/sklearn/utils/class_weight.py:65: DeprecationWarning:\n",
      "\n",
      "The class_weight='auto' heuristic is deprecated in 0.17 in favor of a new heuristic class_weight='balanced'. 'auto' will be removed in 0.19\n",
      "\n",
      "/Users/hubes/anaconda/lib/python3.6/site-packages/sklearn/utils/class_weight.py:65: DeprecationWarning:\n",
      "\n",
      "The class_weight='auto' heuristic is deprecated in 0.17 in favor of a new heuristic class_weight='balanced'. 'auto' will be removed in 0.19\n",
      "\n",
      "/Users/hubes/anaconda/lib/python3.6/site-packages/sklearn/utils/class_weight.py:65: DeprecationWarning:\n",
      "\n",
      "The class_weight='auto' heuristic is deprecated in 0.17 in favor of a new heuristic class_weight='balanced'. 'auto' will be removed in 0.19\n",
      "\n",
      "/Users/hubes/anaconda/lib/python3.6/site-packages/sklearn/utils/class_weight.py:65: DeprecationWarning:\n",
      "\n",
      "The class_weight='auto' heuristic is deprecated in 0.17 in favor of a new heuristic class_weight='balanced'. 'auto' will be removed in 0.19\n",
      "\n"
     ]
    },
    {
     "name": "stdout",
     "output_type": "stream",
     "text": [
      "Accuracy: 0.480850\n"
     ]
    }
   ],
   "source": [
    "# logistic regressor\n",
    "classifier = Pipeline([\n",
    "    ('vectorizer', CountVectorizer(stop_words='english')),\n",
    "    ('tfidf', TfidfTransformer()),\n",
    "    ('clf', OneVsRestClassifier(LogisticRegression(class_weight='auto')))])\n",
    "classifier.fit(training_x, training_y)\n",
    "predictions = classifier.predict(test_x)\n",
    "# get accuracy\n",
    "correct = 0\n",
    "for label, prediction in zip(test_y, predictions):\n",
    "    if label == prediction:\n",
    "        correct += 1\n",
    "print(\"Accuracy: %f\" % (float(correct)/float(len(test_y))))"
   ]
  },
  {
   "cell_type": "code",
   "execution_count": 11,
   "metadata": {
    "collapsed": false,
    "scrolled": false
   },
   "outputs": [],
   "source": [
    "# performance by genre\n",
    "correct_by_genre = defaultdict(int)\n",
    "incorrect_by_genre = defaultdict(int)\n",
    "pct_correct_by_genre = defaultdict(float)\n",
    "for label, prediction in zip(test_y, predictions):\n",
    "    if (label == prediction):\n",
    "        correct_by_genre[label] += 1\n",
    "    else:\n",
    "        incorrect_by_genre[label] += 1\n",
    "for genre in correct_by_genre:\n",
    "    pct_correct_by_genre[genre] = correct_by_genre[genre] / (correct_by_genre[genre]+incorrect_by_genre[genre])\n",
    "log_regression_stats = sorted(pct_correct_by_genre.items(), key=lambda x:x[1], reverse=True)"
   ]
  },
  {
   "cell_type": "markdown",
   "metadata": {},
   "source": [
    "____________________________________________________________________\n",
    "## SVM unbalanced classifier, using unigrams (words)"
   ]
  },
  {
   "cell_type": "code",
   "execution_count": 12,
   "metadata": {
    "collapsed": false
   },
   "outputs": [
    {
     "name": "stdout",
     "output_type": "stream",
     "text": [
      "Accuracy: 0.596144\n"
     ]
    }
   ],
   "source": [
    "# svm classifier without class balance\n",
    "classifier = Pipeline([\n",
    "    ('vectorizer', CountVectorizer(stop_words='english', analyzer='word')),\n",
    "    ('tfidf', TfidfTransformer()),\n",
    "    ('clf', OneVsRestClassifier(LinearSVC(C=1)))])\n",
    "classifier.fit(training_x, training_y)\n",
    "predictions = classifier.predict(test_x)\n",
    "# get accuracy\n",
    "correct = 0\n",
    "for label, prediction in zip(test_y, predictions):\n",
    "    if label == prediction:\n",
    "        correct += 1\n",
    "print(\"Accuracy: %f\" % (float(correct)/float(len(test_y))))"
   ]
  },
  {
   "cell_type": "code",
   "execution_count": 13,
   "metadata": {
    "collapsed": false
   },
   "outputs": [],
   "source": [
    "# performance by genre\n",
    "correct_by_genre = defaultdict(int)\n",
    "incorrect_by_genre = defaultdict(int)\n",
    "pct_correct_by_genre = defaultdict(float)\n",
    "for label, prediction in zip(test_y, predictions):\n",
    "    if (label == prediction):\n",
    "        correct_by_genre[label] += 1\n",
    "    else:\n",
    "        incorrect_by_genre[label] += 1\n",
    "for genre in correct_by_genre:\n",
    "    pct_correct_by_genre[genre] = correct_by_genre[genre] / (correct_by_genre[genre]+incorrect_by_genre[genre])\n",
    "svm_no_balance_stats = sorted(pct_correct_by_genre.items(), key=lambda x:x[1], reverse=True)"
   ]
  },
  {
   "cell_type": "markdown",
   "metadata": {
    "collapsed": true
   },
   "source": [
    "________________________________________________________________________________\n",
    "## Data visualization"
   ]
  },
  {
   "cell_type": "code",
   "execution_count": 39,
   "metadata": {
    "collapsed": false
   },
   "outputs": [
    {
     "name": "stdout",
     "output_type": "stream",
     "text": [
      "{'country': 186.08389518315147,\n",
      " 'electronic': 193.35952799397438,\n",
      " 'folk': 181.01471243869818,\n",
      " 'hip-hop': 489.93360160965796,\n",
      " 'indie': 196.85138139091777,\n",
      " 'jazz': 172.06361355081555,\n",
      " 'metal': 169.05496864346142,\n",
      " 'other': 223.89169396800926,\n",
      " 'pop': 245.64797607868334,\n",
      " 'r&b': 224.9376653925316,\n",
      " 'rock': 190.6831418501396}\n"
     ]
    }
   ],
   "source": [
    "\"\"\"\n",
    "Get average words per song per genre.\n",
    "\"\"\"\n",
    "plotted_genres = ['hip-hop', 'metal', 'country', 'rock', 'jazz', 'pop', 'electronic', 'folk', 'other', 'r&b', 'indie']\n",
    "num_words_by_genre = defaultdict(int)\n",
    "\n",
    "# get number of words per average\n",
    "num_words = [len(row.split(\" \")) for row in lyrics]\n",
    "for word_count, genre in zip(num_words, genres):\n",
    "    num_words_by_genre[genre] += word_count\n",
    "    \n",
    "# get number of songs per genre\n",
    "songs_per_genre = defaultdict(int)\n",
    "for genre in genres:\n",
    "    songs_per_genre[genre] += 1\n",
    "    \n",
    "# get average words per genre\n",
    "avg_words_per_genre = {}\n",
    "for genre in plotted_genres:\n",
    "    avg_words_per_genre[genre] = num_words_by_genre[genre] / songs_per_genre[genre]\n",
    "pprint.pprint(avg_words_per_genre)\n",
    "\n",
    "# get words per genre\n",
    "words_per_song_by_genre = defaultdict(list)\n",
    "for word_count, genre in zip(num_words, genres):\n",
    "    if word_count > 1000:\n",
    "        continue\n",
    "    words_per_song_by_genre[genre].append(word_count)"
   ]
  },
  {
   "cell_type": "code",
   "execution_count": 42,
   "metadata": {
    "collapsed": false
   },
   "outputs": [
    {
     "data": {
      "image/png": "[encoded data removed]",
      "text/plain": [
       "<matplotlib.figure.Figure at 0x11f0b3208>"
      ]
     },
     "metadata": {},
     "output_type": "display_data"
    }
   ],
   "source": [
    "\"\"\"\n",
    "Plot words in a song per genre.\n",
    "\"\"\"\n",
    "    \n",
    "mins = []\n",
    "maxes = []\n",
    "means = []\n",
    "std = []\n",
    "for genre in plotted_genres:\n",
    "    words_list = words_per_song_by_genre[genre]\n",
    "    mins.append(min(words_list))\n",
    "    maxes.append(max(words_list))\n",
    "    mean = sum(words_list)/len(words_list)\n",
    "    means.append(mean)\n",
    "    std.append(np.std(words_list))\n",
    "mins = np.array(mins)\n",
    "maxes = np.array(maxes)\n",
    "means = np.array(means)\n",
    "std = np.array(std)\n",
    "\n",
    "# create stacked errorbars:\n",
    "plt.errorbar(np.arange(11), means, std, fmt='ok', lw=3)\n",
    "plt.errorbar(np.arange(11), means, [means - mins, maxes - means],\n",
    "             fmt='.k', ecolor='gray', lw=1)\n",
    "plt.xticks([x for x in range(11)], plotted_genres, rotation='vertical')\n",
    "\n",
    "plt.show()"
   ]
  },
  {
   "cell_type": "code",
   "execution_count": 104,
   "metadata": {
    "collapsed": false
   },
   "outputs": [
    {
     "name": "stdout",
     "output_type": "stream",
     "text": [
      "2500 lyrics finished..\n",
      "5000 lyrics finished..\n",
      "7500 lyrics finished..\n",
      "10000 lyrics finished..\n",
      "12500 lyrics finished..\n",
      "15000 lyrics finished..\n",
      "17500 lyrics finished..\n",
      "20000 lyrics finished..\n",
      "22500 lyrics finished..\n",
      "Text preprocessing done.\n"
     ]
    },
    {
     "data": {
      "image/png": "[encoded data removed]",
      "text/plain": [
       "<matplotlib.figure.Figure at 0x1785dd9e8>"
      ]
     },
     "metadata": {},
     "output_type": "display_data"
    },
    {
     "data": {
      "text/plain": [
       "<wordcloud.wordcloud.WordCloud at 0x11efe3e10>"
      ]
     },
     "execution_count": 104,
     "metadata": {},
     "output_type": "execute_result"
    }
   ],
   "source": [
    "\"\"\"\n",
    "Plot word cloud.\n",
    "\"\"\"\n",
    "# CHANGE THIS VAR TO MATCH THE CLOUD U WANT\n",
    "target_genre = \"Metal\"\n",
    "text = \"\"\n",
    "i = 0\n",
    "for lyrics, genre in zip(df['lyrics'], df['genre']):\n",
    "    if genre == target_genre:\n",
    "        # lower case only\n",
    "        lyrics = lyrics.lower()\n",
    "        tokens = lyrics.split(\" \")\n",
    "        text += \" \" + st \n",
    "        i += 1\n",
    "        if i % 2500 == 0:\n",
    "            print(\"%d lyrics finished..\" % (i))\n",
    "            \n",
    "print(\"Text preprocessing done.\")\n",
    "\n",
    "# remove punctuation\n",
    "text = text.replace('(', '')\n",
    "text = text.replace(')', '')\n",
    "text = text.replace('\\'', '')\n",
    "text = text.replace('!', '')\n",
    "text = text.replace('  ', ' ')\n",
    "\n",
    "# remove stopwords\n",
    "stopwords = set(STOPWORDS)\n",
    "stopwords.add(\"said\")\n",
    "\n",
    "# make shape\n",
    "base = getcwd()\n",
    "guitar_mask = np.array(Image.open(path.join(base, \"guitar.jpeg\")))\n",
    "\n",
    "wordcloud = WordCloud(width=3000, height=3000, scale=5, max_font_size=120, background_color=\"white\", stopwords=stopwords, mask=guitar_mask).generate(text)\n",
    "plt.figure()\n",
    "plt.imshow(wordcloud, interpolation=\"bilinear\")\n",
    "plt.axis(\"off\")\n",
    "plt.show()\n",
    "\n",
    "# save to file\n",
    "wordcloud.to_file(path.join(base, target_genre + \".png\"))"
   ]
  },
  {
   "cell_type": "code",
   "execution_count": 60,
   "metadata": {
    "collapsed": false
   },
   "outputs": [],
   "source": [
    "# this is my api key pls delete later\n",
    "plotly.tools.set_credentials_file(username='hle000', api_key='uY8PP35cvY4kj5itzZKY')"
   ]
  },
  {
   "cell_type": "code",
   "execution_count": 61,
   "metadata": {
    "collapsed": false
   },
   "outputs": [
    {
     "name": "stdout",
     "output_type": "stream",
     "text": [
      "High five! You successfully sent some data to your account on plotly. View your plot in your browser at https://plot.ly/~hle000/0 or inside your plot.ly account where it is named 'grouped-bar'\n"
     ]
    },
    {
     "data": {
      "text/html": [
       "<iframe id=\"igraph\" scrolling=\"no\" style=\"border:none;\" seamless=\"seamless\" src=\"https://plot.ly/~hle000/0.embed\" height=\"525px\" width=\"100%\"></iframe>"
      ],
      "text/plain": [
       "<plotly.tools.PlotlyDisplay object>"
      ]
     },
     "execution_count": 61,
     "metadata": {},
     "output_type": "execute_result"
    }
   ],
   "source": [
    "\"\"\"\n",
    "Plot balanced SVM vs balanced Logistic regressor.\n",
    "\"\"\"\n",
    "\n",
    "trace1 = go.Bar(\n",
    "    x=plotted_genres,\n",
    "    y=[ele[1] for ele in svm_stats],\n",
    "    name='SVM'\n",
    ")\n",
    "trace2 = go.Bar(\n",
    "    x=plotted_genres,\n",
    "    y=[ele[1] for ele in log_regression_stats],\n",
    "    name='Log Regresion'\n",
    ")\n",
    "\n",
    "data = [trace1, trace2]\n",
    "layout = go.Layout(\n",
    "    title = \"Accuracy by Genre\",\n",
    "    barmode='group', \n",
    "    yaxis=dict(\n",
    "        autotick=False,\n",
    "        ticks='outside',\n",
    "        tick0=0,\n",
    "        dtick=0.1,\n",
    "        ticklen=8,\n",
    "        tickwidth=4,\n",
    "        tickcolor='#000'\n",
    "    )\n",
    ")\n",
    "\n",
    "fig = go.Figure(data=data, layout=layout)\n",
    "py.iplot(fig, filename='grouped-bar')"
   ]
  },
  {
   "cell_type": "code",
   "execution_count": 62,
   "metadata": {
    "collapsed": false
   },
   "outputs": [
    {
     "name": "stdout",
     "output_type": "stream",
     "text": [
      "High five! You successfully sent some data to your account on plotly. View your plot in your browser at https://plot.ly/~hle000/0 or inside your plot.ly account where it is named 'grouped-bar'\n"
     ]
    },
    {
     "data": {
      "text/html": [
       "<iframe id=\"igraph\" scrolling=\"no\" style=\"border:none;\" seamless=\"seamless\" src=\"https://plot.ly/~hle000/0.embed\" height=\"525px\" width=\"100%\"></iframe>"
      ],
      "text/plain": [
       "<plotly.tools.PlotlyDisplay object>"
      ]
     },
     "execution_count": 62,
     "metadata": {},
     "output_type": "execute_result"
    }
   ],
   "source": [
    "\"\"\"\n",
    "Plot balanced SVM vs unbalanced SVM.\n",
    "\"\"\"\n",
    "trace1 = go.Bar(\n",
    "    x=plotted_genres,\n",
    "    y=[x[1] for x in svm_stats],\n",
    "    name='SVM-Balanced'\n",
    ")\n",
    "trace2 = go.Bar(\n",
    "    x=plotted_genres,\n",
    "    y=[x[1] for x in svm_no_balance_stats],\n",
    "    name='SVM-Unalanced', \n",
    "    marker=dict(\n",
    "        color='rgb(235, 40, 40)'\n",
    "    )\n",
    ")\n",
    "\n",
    "data = [trace1, trace2]\n",
    "layout = go.Layout(\n",
    "    title = \"Accuracy by Genre\",\n",
    "    barmode='group', \n",
    "    yaxis=dict(\n",
    "        autotick=False,\n",
    "        ticks='outside',\n",
    "        tick0=0,\n",
    "        dtick=0.1,\n",
    "        ticklen=8,\n",
    "        tickwidth=4,\n",
    "        tickcolor='#000'\n",
    "    )\n",
    ")\n",
    "\n",
    "fig = go.Figure(data=data, layout=layout)\n",
    "py.iplot(fig, filename='grouped-bar')"
   ]
  },
  {
   "cell_type": "code",
   "execution_count": null,
   "metadata": {
    "collapsed": true
   },
   "outputs": [],
   "source": []
  }
 ],
 "metadata": {
  "kernelspec": {
   "display_name": "Python 3",
   "language": "python",
   "name": "python3"
  },
  "language_info": {
   "codemirror_mode": {
    "name": "ipython",
    "version": 3
   },
   "file_extension": ".py",
   "mimetype": "text/x-python",
   "name": "python",
   "nbconvert_exporter": "python",
   "pygments_lexer": "ipython3",
   "version": "3.6.0"
  }
 },
 "nbformat": 4,
 "nbformat_minor": 2
}
