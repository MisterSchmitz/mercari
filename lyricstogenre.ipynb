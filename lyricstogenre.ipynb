{
 "cells": [
  {
   "cell_type": "code",
   "execution_count": 12,
   "metadata": {
    "collapsed": true
   },
   "outputs": [],
   "source": [
    "# imports\n",
    "import pandas as pd\n",
    "import numpy as np\n",
    "import random\n",
    "from collections import defaultdict\n",
    "from sklearn.pipeline import Pipeline\n",
    "from sklearn.feature_extraction.text import CountVectorizer\n",
    "from sklearn.linear_model import LogisticRegression\n",
    "from sklearn.feature_extraction.text import TfidfTransformer\n",
    "from sklearn.multiclass import OneVsRestClassifier\n",
    "from sklearn.svm import LinearSVC"
   ]
  },
  {
   "cell_type": "code",
   "execution_count": 13,
   "metadata": {
    "collapsed": false
   },
   "outputs": [
    {
     "data": {
      "text/html": [
       "<div>\n",
       "<table border=\"1\" class=\"dataframe\">\n",
       "  <thead>\n",
       "    <tr style=\"text-align: right;\">\n",
       "      <th></th>\n",
       "      <th>index</th>\n",
       "      <th>song</th>\n",
       "      <th>year</th>\n",
       "      <th>artist</th>\n",
       "      <th>genre</th>\n",
       "      <th>lyrics</th>\n",
       "    </tr>\n",
       "  </thead>\n",
       "  <tbody>\n",
       "    <tr>\n",
       "      <th>0</th>\n",
       "      <td>0</td>\n",
       "      <td>ego-remix</td>\n",
       "      <td>2009</td>\n",
       "      <td>beyonce-knowles</td>\n",
       "      <td>Pop</td>\n",
       "      <td>Oh baby, how you doing?\\nYou know I'm gonna cu...</td>\n",
       "    </tr>\n",
       "    <tr>\n",
       "      <th>1</th>\n",
       "      <td>1</td>\n",
       "      <td>then-tell-me</td>\n",
       "      <td>2009</td>\n",
       "      <td>beyonce-knowles</td>\n",
       "      <td>Pop</td>\n",
       "      <td>playin' everything so easy,\\nit's like you see...</td>\n",
       "    </tr>\n",
       "    <tr>\n",
       "      <th>2</th>\n",
       "      <td>2</td>\n",
       "      <td>honesty</td>\n",
       "      <td>2009</td>\n",
       "      <td>beyonce-knowles</td>\n",
       "      <td>Pop</td>\n",
       "      <td>If you search\\nFor tenderness\\nIt isn't hard t...</td>\n",
       "    </tr>\n",
       "    <tr>\n",
       "      <th>3</th>\n",
       "      <td>3</td>\n",
       "      <td>you-are-my-rock</td>\n",
       "      <td>2009</td>\n",
       "      <td>beyonce-knowles</td>\n",
       "      <td>Pop</td>\n",
       "      <td>Oh oh oh I, oh oh oh I\\n[Verse 1:]\\nIf I wrote...</td>\n",
       "    </tr>\n",
       "    <tr>\n",
       "      <th>4</th>\n",
       "      <td>4</td>\n",
       "      <td>black-culture</td>\n",
       "      <td>2009</td>\n",
       "      <td>beyonce-knowles</td>\n",
       "      <td>Pop</td>\n",
       "      <td>Party the people, the people the party it's po...</td>\n",
       "    </tr>\n",
       "  </tbody>\n",
       "</table>\n",
       "</div>"
      ],
      "text/plain": [
       "   index             song  year           artist genre  \\\n",
       "0      0        ego-remix  2009  beyonce-knowles   Pop   \n",
       "1      1     then-tell-me  2009  beyonce-knowles   Pop   \n",
       "2      2          honesty  2009  beyonce-knowles   Pop   \n",
       "3      3  you-are-my-rock  2009  beyonce-knowles   Pop   \n",
       "4      4    black-culture  2009  beyonce-knowles   Pop   \n",
       "\n",
       "                                              lyrics  \n",
       "0  Oh baby, how you doing?\\nYou know I'm gonna cu...  \n",
       "1  playin' everything so easy,\\nit's like you see...  \n",
       "2  If you search\\nFor tenderness\\nIt isn't hard t...  \n",
       "3  Oh oh oh I, oh oh oh I\\n[Verse 1:]\\nIf I wrote...  \n",
       "4  Party the people, the people the party it's po...  "
      ]
     },
     "execution_count": 13,
     "metadata": {},
     "output_type": "execute_result"
    }
   ],
   "source": [
    "df = pd.read_csv('lyrics.csv')\n",
    "df.head()"
   ]
  },
  {
   "cell_type": "code",
   "execution_count": 14,
   "metadata": {
    "collapsed": false
   },
   "outputs": [
    {
     "data": {
      "text/html": [
       "<div>\n",
       "<table border=\"1\" class=\"dataframe\">\n",
       "  <thead>\n",
       "    <tr style=\"text-align: right;\">\n",
       "      <th></th>\n",
       "      <th>index</th>\n",
       "      <th>song</th>\n",
       "      <th>year</th>\n",
       "      <th>artist</th>\n",
       "      <th>genre</th>\n",
       "      <th>lyrics</th>\n",
       "    </tr>\n",
       "  </thead>\n",
       "  <tbody>\n",
       "    <tr>\n",
       "      <th>0</th>\n",
       "      <td>0</td>\n",
       "      <td>ego-remix</td>\n",
       "      <td>2009</td>\n",
       "      <td>beyonce-knowles</td>\n",
       "      <td>Pop</td>\n",
       "      <td>Oh baby, how you doing? You know I'm gonna cut...</td>\n",
       "    </tr>\n",
       "    <tr>\n",
       "      <th>1</th>\n",
       "      <td>1</td>\n",
       "      <td>then-tell-me</td>\n",
       "      <td>2009</td>\n",
       "      <td>beyonce-knowles</td>\n",
       "      <td>Pop</td>\n",
       "      <td>playin' everything so easy, it's like you seem...</td>\n",
       "    </tr>\n",
       "    <tr>\n",
       "      <th>2</th>\n",
       "      <td>2</td>\n",
       "      <td>honesty</td>\n",
       "      <td>2009</td>\n",
       "      <td>beyonce-knowles</td>\n",
       "      <td>Pop</td>\n",
       "      <td>If you search For tenderness It isn't hard to ...</td>\n",
       "    </tr>\n",
       "    <tr>\n",
       "      <th>3</th>\n",
       "      <td>3</td>\n",
       "      <td>you-are-my-rock</td>\n",
       "      <td>2009</td>\n",
       "      <td>beyonce-knowles</td>\n",
       "      <td>Pop</td>\n",
       "      <td>Oh oh oh I, oh oh oh I [Verse 1:] If I wrote a...</td>\n",
       "    </tr>\n",
       "    <tr>\n",
       "      <th>4</th>\n",
       "      <td>4</td>\n",
       "      <td>black-culture</td>\n",
       "      <td>2009</td>\n",
       "      <td>beyonce-knowles</td>\n",
       "      <td>Pop</td>\n",
       "      <td>Party the people, the people the party it's po...</td>\n",
       "    </tr>\n",
       "  </tbody>\n",
       "</table>\n",
       "</div>"
      ],
      "text/plain": [
       "   index             song  year           artist genre  \\\n",
       "0      0        ego-remix  2009  beyonce-knowles   Pop   \n",
       "1      1     then-tell-me  2009  beyonce-knowles   Pop   \n",
       "2      2          honesty  2009  beyonce-knowles   Pop   \n",
       "3      3  you-are-my-rock  2009  beyonce-knowles   Pop   \n",
       "4      4    black-culture  2009  beyonce-knowles   Pop   \n",
       "\n",
       "                                              lyrics  \n",
       "0  Oh baby, how you doing? You know I'm gonna cut...  \n",
       "1  playin' everything so easy, it's like you seem...  \n",
       "2  If you search For tenderness It isn't hard to ...  \n",
       "3  Oh oh oh I, oh oh oh I [Verse 1:] If I wrote a...  \n",
       "4  Party the people, the people the party it's po...  "
      ]
     },
     "execution_count": 14,
     "metadata": {},
     "output_type": "execute_result"
    }
   ],
   "source": [
    "#replace carriage returns\n",
    "df = df.replace({'\\n': ' '}, regex=True)\n",
    "df.head()"
   ]
  },
  {
   "cell_type": "code",
   "execution_count": 15,
   "metadata": {
    "collapsed": false
   },
   "outputs": [],
   "source": [
    "# remove nans\n",
    "df = df.dropna()\n",
    "\n",
    "# remove ones that aren't in set\n",
    "#df = df[df.genre != 'Rock']\n",
    "#df = df[df.genre != 'Pop']\n",
    "#df = df[df.genre != 'Hip-Hop']\n",
    "df = df[df.genre != 'Not Available']"
   ]
  },
  {
   "cell_type": "code",
   "execution_count": 16,
   "metadata": {
    "collapsed": false
   },
   "outputs": [
    {
     "data": {
      "text/html": [
       "<div>\n",
       "<table border=\"1\" class=\"dataframe\">\n",
       "  <thead>\n",
       "    <tr style=\"text-align: right;\">\n",
       "      <th></th>\n",
       "      <th>index</th>\n",
       "      <th>song</th>\n",
       "      <th>year</th>\n",
       "      <th>artist</th>\n",
       "      <th>genre</th>\n",
       "      <th>lyrics</th>\n",
       "    </tr>\n",
       "  </thead>\n",
       "  <tbody>\n",
       "    <tr>\n",
       "      <th>0</th>\n",
       "      <td>133119</td>\n",
       "      <td>trespassin</td>\n",
       "      <td>2012</td>\n",
       "      <td>adam-lambert</td>\n",
       "      <td>Pop</td>\n",
       "      <td>Well I was walkin' for some time When I came a...</td>\n",
       "    </tr>\n",
       "    <tr>\n",
       "      <th>1</th>\n",
       "      <td>110964</td>\n",
       "      <td>c-mon</td>\n",
       "      <td>2007</td>\n",
       "      <td>go-betty-go</td>\n",
       "      <td>Rock</td>\n",
       "      <td>Next week came so suddenly I tried to see the ...</td>\n",
       "    </tr>\n",
       "    <tr>\n",
       "      <th>2</th>\n",
       "      <td>179919</td>\n",
       "      <td>tears-of-bitterness</td>\n",
       "      <td>2007</td>\n",
       "      <td>extol</td>\n",
       "      <td>Metal</td>\n",
       "      <td>Divine security, heartfelt certainty But my fa...</td>\n",
       "    </tr>\n",
       "    <tr>\n",
       "      <th>3</th>\n",
       "      <td>146485</td>\n",
       "      <td>sissy-s-song</td>\n",
       "      <td>2008</td>\n",
       "      <td>alan-jackson</td>\n",
       "      <td>Country</td>\n",
       "      <td>Why did she have to go So young I just don't k...</td>\n",
       "    </tr>\n",
       "    <tr>\n",
       "      <th>4</th>\n",
       "      <td>18649</td>\n",
       "      <td>funky-beat</td>\n",
       "      <td>2006</td>\n",
       "      <td>everlast</td>\n",
       "      <td>Rock</td>\n",
       "      <td>Check, uh huh Check check y'all Yo Whitey Ford...</td>\n",
       "    </tr>\n",
       "  </tbody>\n",
       "</table>\n",
       "</div>"
      ],
      "text/plain": [
       "    index                 song  year        artist    genre  \\\n",
       "0  133119           trespassin  2012  adam-lambert      Pop   \n",
       "1  110964                c-mon  2007   go-betty-go     Rock   \n",
       "2  179919  tears-of-bitterness  2007         extol    Metal   \n",
       "3  146485         sissy-s-song  2008  alan-jackson  Country   \n",
       "4   18649           funky-beat  2006      everlast     Rock   \n",
       "\n",
       "                                              lyrics  \n",
       "0  Well I was walkin' for some time When I came a...  \n",
       "1  Next week came so suddenly I tried to see the ...  \n",
       "2  Divine security, heartfelt certainty But my fa...  \n",
       "3  Why did she have to go So young I just don't k...  \n",
       "4  Check, uh huh Check check y'all Yo Whitey Ford...  "
      ]
     },
     "execution_count": 16,
     "metadata": {},
     "output_type": "execute_result"
    }
   ],
   "source": [
    "# shuffle data\n",
    "random.seed(10)\n",
    "df = df.sample(frac=1).reset_index(drop=True)\n",
    "df.head()"
   ]
  },
  {
   "cell_type": "code",
   "execution_count": 17,
   "metadata": {
    "collapsed": true
   },
   "outputs": [],
   "source": [
    "# get lyrics\n",
    "genres, lyrics = [], []\n",
    "for x1, x2 in zip(df['lyrics'], df['genre']):\n",
    "    genres.append(x2.lower())\n",
    "    lyrics.append(x1)"
   ]
  },
  {
   "cell_type": "code",
   "execution_count": 18,
   "metadata": {
    "collapsed": false
   },
   "outputs": [
    {
     "name": "stdout",
     "output_type": "stream",
     "text": [
      "Num genres: 11\n"
     ]
    }
   ],
   "source": [
    "# get number of total genres\n",
    "total_genres = len(set(genres))\n",
    "print(\"Num genres: %d\" % (total_genres))\n",
    "\n",
    "# create training and test set\n",
    "training_x = lyrics[:len(lyrics)//2]\n",
    "training_y = genres[:len(lyrics)//2]\n",
    "\n",
    "test_x = lyrics[len(lyrics)//2:]\n",
    "test_y = genres[len(lyrics)//2:]"
   ]
  },
  {
   "cell_type": "code",
   "execution_count": 19,
   "metadata": {
    "collapsed": false
   },
   "outputs": [
    {
     "data": {
      "text/plain": [
       "[('hip-hop', 489.93360160965796),\n",
       " ('pop', 245.64797607868334),\n",
       " ('r&b', 224.9376653925316),\n",
       " ('other', 223.89169396800926),\n",
       " ('indie', 196.85138139091777),\n",
       " ('electronic', 193.35952799397438),\n",
       " ('rock', 190.6831418501396),\n",
       " ('country', 186.08389518315147),\n",
       " ('folk', 181.01471243869818),\n",
       " ('jazz', 172.06361355081555),\n",
       " ('metal', 169.05496864346142)]"
      ]
     },
     "execution_count": 19,
     "metadata": {},
     "output_type": "execute_result"
    }
   ],
   "source": [
    "# get number of words\n",
    "num_words = [len(row.split(\" \")) for row in lyrics]\n",
    "num_words[:10]\n",
    "\n",
    "num_words_by_genre = defaultdict(int)\n",
    "avg_num_words_by_genre = defaultdict(float)\n",
    "\n",
    "for word_count, genre in zip(num_words, genres):\n",
    "    num_words_by_genre[genre] += word_count\n",
    "\n",
    "# songs by genre\n",
    "songs_by_genre = defaultdict(int)\n",
    "for g in genres:\n",
    "    songs_by_genre[g] += 1\n",
    "\n",
    "sorted(songs_by_genre.items(), key=lambda x:x[1], reverse=True)\n",
    "# words by genre\n",
    "for g in num_words_by_genre:\n",
    "    avg_num_words_by_genre[g] = num_words_by_genre[g] / songs_by_genre[g]\n",
    "\n",
    "sorted(avg_num_words_by_genre.items(), key=lambda x:x[1], reverse=True)"
   ]
  },
  {
   "cell_type": "markdown",
   "metadata": {},
   "source": [
    "____________________________________________________________________\n",
    "## SVM balanced classifier, using unigrams (words)"
   ]
  },
  {
   "cell_type": "code",
   "execution_count": 45,
   "metadata": {
    "collapsed": false
   },
   "outputs": [
    {
     "name": "stderr",
     "output_type": "stream",
     "text": [
      "/Users/hubes/anaconda/lib/python3.6/site-packages/sklearn/utils/class_weight.py:65: DeprecationWarning: The class_weight='auto' heuristic is deprecated in 0.17 in favor of a new heuristic class_weight='balanced'. 'auto' will be removed in 0.19\n",
      "  \" 0.19\", DeprecationWarning)\n",
      "/Users/hubes/anaconda/lib/python3.6/site-packages/sklearn/utils/class_weight.py:65: DeprecationWarning: The class_weight='auto' heuristic is deprecated in 0.17 in favor of a new heuristic class_weight='balanced'. 'auto' will be removed in 0.19\n",
      "  \" 0.19\", DeprecationWarning)\n",
      "/Users/hubes/anaconda/lib/python3.6/site-packages/sklearn/utils/class_weight.py:65: DeprecationWarning: The class_weight='auto' heuristic is deprecated in 0.17 in favor of a new heuristic class_weight='balanced'. 'auto' will be removed in 0.19\n",
      "  \" 0.19\", DeprecationWarning)\n",
      "/Users/hubes/anaconda/lib/python3.6/site-packages/sklearn/utils/class_weight.py:65: DeprecationWarning: The class_weight='auto' heuristic is deprecated in 0.17 in favor of a new heuristic class_weight='balanced'. 'auto' will be removed in 0.19\n",
      "  \" 0.19\", DeprecationWarning)\n",
      "/Users/hubes/anaconda/lib/python3.6/site-packages/sklearn/utils/class_weight.py:65: DeprecationWarning: The class_weight='auto' heuristic is deprecated in 0.17 in favor of a new heuristic class_weight='balanced'. 'auto' will be removed in 0.19\n",
      "  \" 0.19\", DeprecationWarning)\n",
      "/Users/hubes/anaconda/lib/python3.6/site-packages/sklearn/utils/class_weight.py:65: DeprecationWarning: The class_weight='auto' heuristic is deprecated in 0.17 in favor of a new heuristic class_weight='balanced'. 'auto' will be removed in 0.19\n",
      "  \" 0.19\", DeprecationWarning)\n",
      "/Users/hubes/anaconda/lib/python3.6/site-packages/sklearn/utils/class_weight.py:65: DeprecationWarning: The class_weight='auto' heuristic is deprecated in 0.17 in favor of a new heuristic class_weight='balanced'. 'auto' will be removed in 0.19\n",
      "  \" 0.19\", DeprecationWarning)\n",
      "/Users/hubes/anaconda/lib/python3.6/site-packages/sklearn/utils/class_weight.py:65: DeprecationWarning: The class_weight='auto' heuristic is deprecated in 0.17 in favor of a new heuristic class_weight='balanced'. 'auto' will be removed in 0.19\n",
      "  \" 0.19\", DeprecationWarning)\n",
      "/Users/hubes/anaconda/lib/python3.6/site-packages/sklearn/utils/class_weight.py:65: DeprecationWarning: The class_weight='auto' heuristic is deprecated in 0.17 in favor of a new heuristic class_weight='balanced'. 'auto' will be removed in 0.19\n",
      "  \" 0.19\", DeprecationWarning)\n",
      "/Users/hubes/anaconda/lib/python3.6/site-packages/sklearn/utils/class_weight.py:65: DeprecationWarning: The class_weight='auto' heuristic is deprecated in 0.17 in favor of a new heuristic class_weight='balanced'. 'auto' will be removed in 0.19\n",
      "  \" 0.19\", DeprecationWarning)\n",
      "/Users/hubes/anaconda/lib/python3.6/site-packages/sklearn/utils/class_weight.py:65: DeprecationWarning: The class_weight='auto' heuristic is deprecated in 0.17 in favor of a new heuristic class_weight='balanced'. 'auto' will be removed in 0.19\n",
      "  \" 0.19\", DeprecationWarning)\n"
     ]
    },
    {
     "name": "stdout",
     "output_type": "stream",
     "text": [
      "Accuracy: 0.492243\n"
     ]
    }
   ],
   "source": [
    "# svm classifier with words\n",
    "classifier = Pipeline([\n",
    "    ('vectorizer', CountVectorizer(stop_words='english', analyzer='word')),\n",
    "    ('tfidf', TfidfTransformer()),\n",
    "    ('clf', OneVsRestClassifier(LinearSVC(C=1, class_weight='auto')))])\n",
    "classifier.fit(training_x, training_y)\n",
    "predictions = classifier.predict(test_x)\n",
    "# get accuracy\n",
    "correct = 0\n",
    "for label, prediction in zip(test_y, predictions):\n",
    "    if label == prediction:\n",
    "        correct += 1\n",
    "print(\"Accuracy: %f\" % (float(correct)/float(len(test_y))))"
   ]
  },
  {
   "cell_type": "code",
   "execution_count": 46,
   "metadata": {
    "collapsed": false,
    "scrolled": false
   },
   "outputs": [
    {
     "data": {
      "text/plain": [
       "[('hip-hop', 0.758507748841668),\n",
       " ('metal', 0.6178177841339278),\n",
       " ('country', 0.5072805436139232),\n",
       " ('rock', 0.4944214041912871),\n",
       " ('pop', 0.4069352118265701),\n",
       " ('jazz', 0.391272370679088),\n",
       " ('electronic', 0.2745839636913767),\n",
       " ('other', 0.2164009111617312),\n",
       " ('r&b', 0.21264028352037803),\n",
       " ('folk', 0.20607175712971482),\n",
       " ('indie', 0.1461100569259962)]"
      ]
     },
     "execution_count": 46,
     "metadata": {},
     "output_type": "execute_result"
    }
   ],
   "source": [
    "# performance by genre\n",
    "correct_by_genre = defaultdict(int)\n",
    "incorrect_by_genre = defaultdict(int)\n",
    "pct_correct_by_genre = defaultdict(float)\n",
    "for label, prediction in zip(test_y, predictions):\n",
    "    if (label == prediction):\n",
    "        correct_by_genre[label] += 1\n",
    "    else:\n",
    "        incorrect_by_genre[label] += 1\n",
    "for genre in correct_by_genre:\n",
    "    pct_correct_by_genre[genre] = correct_by_genre[genre] / (correct_by_genre[genre]+incorrect_by_genre[genre])\n",
    "sorted(pct_correct_by_genre.items(), key=lambda x:x[1], reverse=True)"
   ]
  },
  {
   "cell_type": "markdown",
   "metadata": {},
   "source": [
    "____________________________________________________________________\n",
    "## Logistic Regression balanced classifier, using unigrams (words)"
   ]
  },
  {
   "cell_type": "code",
   "execution_count": 47,
   "metadata": {
    "collapsed": false
   },
   "outputs": [
    {
     "name": "stderr",
     "output_type": "stream",
     "text": [
      "/Users/hubes/anaconda/lib/python3.6/site-packages/sklearn/utils/class_weight.py:65: DeprecationWarning: The class_weight='auto' heuristic is deprecated in 0.17 in favor of a new heuristic class_weight='balanced'. 'auto' will be removed in 0.19\n",
      "  \" 0.19\", DeprecationWarning)\n",
      "/Users/hubes/anaconda/lib/python3.6/site-packages/sklearn/utils/class_weight.py:65: DeprecationWarning: The class_weight='auto' heuristic is deprecated in 0.17 in favor of a new heuristic class_weight='balanced'. 'auto' will be removed in 0.19\n",
      "  \" 0.19\", DeprecationWarning)\n",
      "/Users/hubes/anaconda/lib/python3.6/site-packages/sklearn/utils/class_weight.py:65: DeprecationWarning: The class_weight='auto' heuristic is deprecated in 0.17 in favor of a new heuristic class_weight='balanced'. 'auto' will be removed in 0.19\n",
      "  \" 0.19\", DeprecationWarning)\n",
      "/Users/hubes/anaconda/lib/python3.6/site-packages/sklearn/utils/class_weight.py:65: DeprecationWarning: The class_weight='auto' heuristic is deprecated in 0.17 in favor of a new heuristic class_weight='balanced'. 'auto' will be removed in 0.19\n",
      "  \" 0.19\", DeprecationWarning)\n",
      "/Users/hubes/anaconda/lib/python3.6/site-packages/sklearn/utils/class_weight.py:65: DeprecationWarning: The class_weight='auto' heuristic is deprecated in 0.17 in favor of a new heuristic class_weight='balanced'. 'auto' will be removed in 0.19\n",
      "  \" 0.19\", DeprecationWarning)\n",
      "/Users/hubes/anaconda/lib/python3.6/site-packages/sklearn/utils/class_weight.py:65: DeprecationWarning: The class_weight='auto' heuristic is deprecated in 0.17 in favor of a new heuristic class_weight='balanced'. 'auto' will be removed in 0.19\n",
      "  \" 0.19\", DeprecationWarning)\n",
      "/Users/hubes/anaconda/lib/python3.6/site-packages/sklearn/utils/class_weight.py:65: DeprecationWarning: The class_weight='auto' heuristic is deprecated in 0.17 in favor of a new heuristic class_weight='balanced'. 'auto' will be removed in 0.19\n",
      "  \" 0.19\", DeprecationWarning)\n",
      "/Users/hubes/anaconda/lib/python3.6/site-packages/sklearn/utils/class_weight.py:65: DeprecationWarning: The class_weight='auto' heuristic is deprecated in 0.17 in favor of a new heuristic class_weight='balanced'. 'auto' will be removed in 0.19\n",
      "  \" 0.19\", DeprecationWarning)\n",
      "/Users/hubes/anaconda/lib/python3.6/site-packages/sklearn/utils/class_weight.py:65: DeprecationWarning: The class_weight='auto' heuristic is deprecated in 0.17 in favor of a new heuristic class_weight='balanced'. 'auto' will be removed in 0.19\n",
      "  \" 0.19\", DeprecationWarning)\n",
      "/Users/hubes/anaconda/lib/python3.6/site-packages/sklearn/utils/class_weight.py:65: DeprecationWarning: The class_weight='auto' heuristic is deprecated in 0.17 in favor of a new heuristic class_weight='balanced'. 'auto' will be removed in 0.19\n",
      "  \" 0.19\", DeprecationWarning)\n",
      "/Users/hubes/anaconda/lib/python3.6/site-packages/sklearn/utils/class_weight.py:65: DeprecationWarning: The class_weight='auto' heuristic is deprecated in 0.17 in favor of a new heuristic class_weight='balanced'. 'auto' will be removed in 0.19\n",
      "  \" 0.19\", DeprecationWarning)\n"
     ]
    },
    {
     "name": "stdout",
     "output_type": "stream",
     "text": [
      "Accuracy: 0.480719\n"
     ]
    }
   ],
   "source": [
    "# logistic regressor\n",
    "classifier = Pipeline([\n",
    "    ('vectorizer', CountVectorizer(stop_words='english')),\n",
    "    ('tfidf', TfidfTransformer()),\n",
    "    ('clf', OneVsRestClassifier(LogisticRegression(class_weight='auto')))])\n",
    "classifier.fit(training_x, training_y)\n",
    "predictions = classifier.predict(test_x)\n",
    "# get accuracy\n",
    "correct = 0\n",
    "for label, prediction in zip(test_y, predictions):\n",
    "    if label == prediction:\n",
    "        correct += 1\n",
    "print(\"Accuracy: %f\" % (float(correct)/float(len(test_y))))"
   ]
  },
  {
   "cell_type": "code",
   "execution_count": 48,
   "metadata": {
    "collapsed": false,
    "scrolled": false
   },
   "outputs": [
    {
     "data": {
      "text/plain": [
       "[('hip-hop', 0.7639399265058316),\n",
       " ('metal', 0.6813325481618575),\n",
       " ('country', 0.5454167244487589),\n",
       " ('rock', 0.46216097185011196),\n",
       " ('jazz', 0.391272370679088),\n",
       " ('pop', 0.37786486754638354),\n",
       " ('electronic', 0.2528996469994957),\n",
       " ('folk', 0.22447102115915363),\n",
       " ('other', 0.2076689445709947),\n",
       " ('r&b', 0.18606024808033078),\n",
       " ('indie', 0.1347248576850095)]"
      ]
     },
     "execution_count": 48,
     "metadata": {},
     "output_type": "execute_result"
    }
   ],
   "source": [
    "# performance by genre\n",
    "correct_by_genre = defaultdict(int)\n",
    "incorrect_by_genre = defaultdict(int)\n",
    "pct_correct_by_genre = defaultdict(float)\n",
    "for label, prediction in zip(test_y, predictions):\n",
    "    if (label == prediction):\n",
    "        correct_by_genre[label] += 1\n",
    "    else:\n",
    "        incorrect_by_genre[label] += 1\n",
    "for genre in correct_by_genre:\n",
    "    pct_correct_by_genre[genre] = correct_by_genre[genre] / (correct_by_genre[genre]+incorrect_by_genre[genre])\n",
    "sorted(pct_correct_by_genre.items(), key=lambda x:x[1], reverse=True)"
   ]
  },
  {
   "cell_type": "code",
   "execution_count": 20,
   "metadata": {
    "collapsed": false
   },
   "outputs": [
    {
     "name": "stdout",
     "output_type": "stream",
     "text": [
      "Accuracy: 0.597240\n"
     ]
    }
   ],
   "source": [
    "# svm classifier without class balance\n",
    "classifier = Pipeline([\n",
    "    ('vectorizer', CountVectorizer(stop_words='english', analyzer='word')),\n",
    "    ('tfidf', TfidfTransformer()),\n",
    "    ('clf', OneVsRestClassifier(LinearSVC(C=1)))])\n",
    "classifier.fit(training_x, training_y)\n",
    "predictions = classifier.predict(test_x)\n",
    "# get accuracy\n",
    "correct = 0\n",
    "for label, prediction in zip(test_y, predictions):\n",
    "    if label == prediction:\n",
    "        correct += 1\n",
    "print(\"Accuracy: %f\" % (float(correct)/float(len(test_y))))"
   ]
  },
  {
   "cell_type": "code",
   "execution_count": 21,
   "metadata": {
    "collapsed": false
   },
   "outputs": [
    {
     "data": {
      "text/plain": [
       "[('rock', 0.8402536006156778),\n",
       " ('hip-hop', 0.7546957778134532),\n",
       " ('metal', 0.5214847015549239),\n",
       " ('pop', 0.3505651105651106),\n",
       " ('country', 0.30868838763575607),\n",
       " ('jazz', 0.21788990825688073),\n",
       " ('folk', 0.1253430924062214),\n",
       " ('other', 0.08503134796238244),\n",
       " ('r&b', 0.07042253521126761),\n",
       " ('electronic', 0.06377032520325203),\n",
       " ('indie', 0.014621741894469168)]"
      ]
     },
     "execution_count": 21,
     "metadata": {},
     "output_type": "execute_result"
    }
   ],
   "source": [
    "# performance by genre\n",
    "correct_by_genre = defaultdict(int)\n",
    "incorrect_by_genre = defaultdict(int)\n",
    "pct_correct_by_genre = defaultdict(float)\n",
    "for label, prediction in zip(test_y, predictions):\n",
    "    if (label == prediction):\n",
    "        correct_by_genre[label] += 1\n",
    "    else:\n",
    "        incorrect_by_genre[label] += 1\n",
    "for genre in correct_by_genre:\n",
    "    pct_correct_by_genre[genre] = correct_by_genre[genre] / (correct_by_genre[genre]+incorrect_by_genre[genre])\n",
    "sorted(pct_correct_by_genre.items(), key=lambda x:x[1], reverse=True)"
   ]
  },
  {
   "cell_type": "markdown",
   "metadata": {
    "collapsed": true
   },
   "source": [
    "________________________________________________________________________________\n",
    "## Data visualization"
   ]
  },
  {
   "cell_type": "code",
   "execution_count": 29,
   "metadata": {
    "collapsed": true
   },
   "outputs": [],
   "source": [
    "genres = ['metal', 'country', 'rock', 'jazz', 'pop', 'electronic', 'folk', 'other', 'r&b', 'indie']\n",
    "import plotly.plotly as py\n",
    "import plotly.graph_objs as go"
   ]
  },
  {
   "cell_type": "code",
   "execution_count": 23,
   "metadata": {
    "collapsed": false
   },
   "outputs": [],
   "source": [
    "svm_stats = [('hip-hop', 0.758507748841668),\n",
    " ('metal', 0.6178177841339278),\n",
    " ('country', 0.5072805436139232),\n",
    " ('rock', 0.4944214041912871),\n",
    " ('pop', 0.4069352118265701),\n",
    " ('jazz', 0.391272370679088),\n",
    " ('electronic', 0.2745839636913767),\n",
    " ('other', 0.2164009111617312),\n",
    " ('r&b', 0.21264028352037803),\n",
    " ('folk', 0.20607175712971482),\n",
    " ('indie', 0.1461100569259962)]\n",
    "\n",
    "log_regression_stats = [('hip-hop', 0.7639399265058316),\n",
    " ('metal', 0.6813325481618575),\n",
    " ('country', 0.5454167244487589),\n",
    " ('rock', 0.46216097185011196),\n",
    " ('jazz', 0.391272370679088),\n",
    " ('pop', 0.37786486754638354),\n",
    " ('electronic', 0.2528996469994957),\n",
    " ('folk', 0.22447102115915363),\n",
    " ('other', 0.2076689445709947),\n",
    " ('r&b', 0.18606024808033078),\n",
    " ('indie', 0.1347248576850095)]\n",
    "\n",
    "svm_no_balance_stats = [('rock', 0.8402536006156778),\n",
    " ('hip-hop', 0.7546957778134532),\n",
    " ('metal', 0.5214847015549239),\n",
    " ('pop', 0.3505651105651106),\n",
    " ('country', 0.30868838763575607),\n",
    " ('jazz', 0.21788990825688073),\n",
    " ('folk', 0.1253430924062214),\n",
    " ('other', 0.08503134796238244),\n",
    " ('r&b', 0.07042253521126761),\n",
    " ('electronic', 0.06377032520325203),\n",
    " ('indie', 0.014621741894469168)]"
   ]
  },
  {
   "cell_type": "code",
   "execution_count": 10,
   "metadata": {
    "collapsed": false
   },
   "outputs": [
    {
     "name": "stdout",
     "output_type": "stream",
     "text": [
      "High five! You successfully sent some data to your account on plotly. View your plot in your browser at https://plot.ly/~hle000/0 or inside your plot.ly account where it is named 'grouped-bar'\n"
     ]
    },
    {
     "data": {
      "text/html": [
       "<iframe id=\"igraph\" scrolling=\"no\" style=\"border:none;\" seamless=\"seamless\" src=\"https://plot.ly/~hle000/0.embed\" height=\"525px\" width=\"100%\"></iframe>"
      ],
      "text/plain": [
       "<plotly.tools.PlotlyDisplay object>"
      ]
     },
     "execution_count": 10,
     "metadata": {},
     "output_type": "execute_result"
    }
   ],
   "source": [
    "\"\"\"\n",
    "Plot balanced SVM vs balanced Logistic regressor\n",
    "\"\"\"\n",
    "\n",
    "trace1 = go.Bar(\n",
    "    x=genres,\n",
    "    y=[x[1] for x in svm_stats],\n",
    "    name='SVM'\n",
    ")\n",
    "trace2 = go.Bar(\n",
    "    x=genres,\n",
    "    y=[x[1] for x in log_regression_stats],\n",
    "    name='Log Regresion'\n",
    ")\n",
    "\n",
    "data = [trace1, trace2]\n",
    "layout = go.Layout(\n",
    "    title = \"Accuracy by Genre\",\n",
    "    barmode='group', \n",
    "    yaxis=dict(\n",
    "        autotick=False,\n",
    "        ticks='outside',\n",
    "        tick0=0,\n",
    "        dtick=0.1,\n",
    "        ticklen=8,\n",
    "        tickwidth=4,\n",
    "        tickcolor='#000'\n",
    "    )\n",
    ")\n",
    "\n",
    "fig = go.Figure(data=data, layout=layout)\n",
    "py.iplot(fig, filename='grouped-bar')"
   ]
  },
  {
   "cell_type": "code",
   "execution_count": 30,
   "metadata": {
    "collapsed": false
   },
   "outputs": [
    {
     "name": "stdout",
     "output_type": "stream",
     "text": [
      "High five! You successfully sent some data to your account on plotly. View your plot in your browser at https://plot.ly/~hle000/0 or inside your plot.ly account where it is named 'grouped-bar'\n"
     ]
    },
    {
     "data": {
      "text/html": [
       "<iframe id=\"igraph\" scrolling=\"no\" style=\"border:none;\" seamless=\"seamless\" src=\"https://plot.ly/~hle000/0.embed\" height=\"525px\" width=\"100%\"></iframe>"
      ],
      "text/plain": [
       "<plotly.tools.PlotlyDisplay object>"
      ]
     },
     "execution_count": 30,
     "metadata": {},
     "output_type": "execute_result"
    }
   ],
   "source": [
    "\"\"\"\n",
    "Plot balanced SVM vs unbalanced SVM\n",
    "\"\"\"\n",
    "trace1 = go.Bar(\n",
    "    x=genres,\n",
    "    y=[x[1] for x in svm_stats],\n",
    "    name='SVM-Balanced'\n",
    ")\n",
    "trace2 = go.Bar(\n",
    "    x=genres,\n",
    "    y=[x[1] for x in svm_no_balance_stats],\n",
    "    name='SVM-Unalanced', \n",
    "    marker=dict(\n",
    "        color='rgb(235, 40, 40)'\n",
    "    )\n",
    ")\n",
    "\n",
    "data = [trace1, trace2]\n",
    "layout = go.Layout(\n",
    "    title = \"Accuracy by Genre\",\n",
    "    barmode='group', \n",
    "    yaxis=dict(\n",
    "        autotick=False,\n",
    "        ticks='outside',\n",
    "        tick0=0,\n",
    "        dtick=0.1,\n",
    "        ticklen=8,\n",
    "        tickwidth=4,\n",
    "        tickcolor='#000'\n",
    "    )\n",
    ")\n",
    "\n",
    "fig = go.Figure(data=data, layout=layout)\n",
    "py.iplot(fig, filename='grouped-bar')"
   ]
  },
  {
   "cell_type": "code",
   "execution_count": null,
   "metadata": {
    "collapsed": true
   },
   "outputs": [],
   "source": []
  }
 ],
 "metadata": {
  "kernelspec": {
   "display_name": "Python 3",
   "language": "python",
   "name": "python3"
  },
  "language_info": {
   "codemirror_mode": {
    "name": "ipython",
    "version": 3
   },
   "file_extension": ".py",
   "mimetype": "text/x-python",
   "name": "python",
   "nbconvert_exporter": "python",
   "pygments_lexer": "ipython3",
   "version": "3.6.0"
  }
 },
 "nbformat": 4,
 "nbformat_minor": 2
}
